{
 "cells": [
  {
   "cell_type": "code",
   "execution_count": 1,
   "id": "9ea014b9",
   "metadata": {},
   "outputs": [],
   "source": [
    "import pandas as pd\n",
    "import numpy as np\n",
    "import matplotlib.pyplot as plt\n",
    "import math as math"
   ]
  },
  {
   "cell_type": "code",
   "execution_count": 2,
   "id": "5ae4e1c6",
   "metadata": {},
   "outputs": [
    {
     "data": {
      "text/plain": [
       "0     1\n",
       "1     2\n",
       "2     3\n",
       "3    11\n",
       "4    12\n",
       "5    13\n",
       "dtype: int64"
      ]
     },
     "execution_count": 2,
     "metadata": {},
     "output_type": "execute_result"
    }
   ],
   "source": [
    "numbers = [1,2,3,11,12,13]\n",
    "numSeries = pd.Series(numbers)\n",
    "numSeries"
   ]
  },
  {
   "cell_type": "code",
   "execution_count": 3,
   "id": "f3045be4",
   "metadata": {},
   "outputs": [
    {
     "data": {
      "text/plain": [
       "0    False\n",
       "1    False\n",
       "2    False\n",
       "3     True\n",
       "4     True\n",
       "5     True\n",
       "dtype: bool"
      ]
     },
     "execution_count": 3,
     "metadata": {},
     "output_type": "execute_result"
    }
   ],
   "source": [
    "numSeries > 10"
   ]
  },
  {
   "cell_type": "code",
   "execution_count": 5,
   "id": "3a838567",
   "metadata": {},
   "outputs": [
    {
     "data": {
      "text/plain": [
       "3    11.0\n",
       "4    12.0\n",
       "5    13.0\n",
       "dtype: float64"
      ]
     },
     "execution_count": 5,
     "metadata": {},
     "output_type": "execute_result"
    }
   ],
   "source": [
    "numSeries.where(numSeries > 10).dropna()"
   ]
  },
  {
   "cell_type": "code",
   "execution_count": 6,
   "id": "97f10b40",
   "metadata": {},
   "outputs": [
    {
     "data": {
      "text/plain": [
       "0     1.0\n",
       "2     3.0\n",
       "3    11.0\n",
       "5    13.0\n",
       "dtype: float64"
      ]
     },
     "execution_count": 6,
     "metadata": {},
     "output_type": "execute_result"
    }
   ],
   "source": [
    "numSeries.where(numSeries % 2 == 1).dropna()"
   ]
  },
  {
   "cell_type": "code",
   "execution_count": 7,
   "id": "2c16b846",
   "metadata": {},
   "outputs": [],
   "source": [
    "numbersGreater10 = numSeries > 10"
   ]
  },
  {
   "cell_type": "code",
   "execution_count": 8,
   "id": "f28a6742",
   "metadata": {},
   "outputs": [
    {
     "data": {
      "text/plain": [
       "0    False\n",
       "1    False\n",
       "2    False\n",
       "3     True\n",
       "4     True\n",
       "5     True\n",
       "dtype: bool"
      ]
     },
     "execution_count": 8,
     "metadata": {},
     "output_type": "execute_result"
    }
   ],
   "source": [
    "numbersGreater10"
   ]
  },
  {
   "cell_type": "code",
   "execution_count": 9,
   "id": "975713ae",
   "metadata": {},
   "outputs": [],
   "source": [
    "numbersOdd = numSeries % 2 == 1"
   ]
  },
  {
   "cell_type": "code",
   "execution_count": 10,
   "id": "1d05a79b",
   "metadata": {},
   "outputs": [
    {
     "data": {
      "text/plain": [
       "0     True\n",
       "1    False\n",
       "2     True\n",
       "3     True\n",
       "4    False\n",
       "5     True\n",
       "dtype: bool"
      ]
     },
     "execution_count": 10,
     "metadata": {},
     "output_type": "execute_result"
    }
   ],
   "source": [
    "numbersOdd"
   ]
  },
  {
   "cell_type": "code",
   "execution_count": 11,
   "id": "aa7a5a29",
   "metadata": {},
   "outputs": [
    {
     "data": {
      "text/plain": [
       "0     NaN\n",
       "1     NaN\n",
       "2     NaN\n",
       "3    11.0\n",
       "4     NaN\n",
       "5    13.0\n",
       "dtype: float64"
      ]
     },
     "execution_count": 11,
     "metadata": {},
     "output_type": "execute_result"
    }
   ],
   "source": [
    "numSeries.where(numbersGreater10 & numbersOdd)"
   ]
  },
  {
   "cell_type": "code",
   "execution_count": 12,
   "id": "167f36d4",
   "metadata": {},
   "outputs": [
    {
     "data": {
      "text/plain": [
       "3    11.0\n",
       "5    13.0\n",
       "dtype: float64"
      ]
     },
     "execution_count": 12,
     "metadata": {},
     "output_type": "execute_result"
    }
   ],
   "source": [
    "numSeries.where(numbersGreater10 & numbersOdd).dropna()"
   ]
  },
  {
   "cell_type": "code",
   "execution_count": 13,
   "id": "3e0243e6",
   "metadata": {},
   "outputs": [
    {
     "data": {
      "text/plain": [
       "0    False\n",
       "1    False\n",
       "2     True\n",
       "3     True\n",
       "4     True\n",
       "5    False\n",
       "dtype: bool"
      ]
     },
     "execution_count": 13,
     "metadata": {},
     "output_type": "execute_result"
    }
   ],
   "source": [
    "numSeries.between(3,12)"
   ]
  },
  {
   "cell_type": "code",
   "execution_count": 14,
   "id": "726acce7",
   "metadata": {},
   "outputs": [
    {
     "data": {
      "text/plain": [
       "0     NaN\n",
       "1     NaN\n",
       "2     3.0\n",
       "3    11.0\n",
       "4    12.0\n",
       "5     NaN\n",
       "dtype: float64"
      ]
     },
     "execution_count": 14,
     "metadata": {},
     "output_type": "execute_result"
    }
   ],
   "source": [
    "numSeries.where(numSeries.between(3,12))"
   ]
  },
  {
   "cell_type": "code",
   "execution_count": 15,
   "id": "e468195e",
   "metadata": {},
   "outputs": [],
   "source": [
    "valuesToShow = numSeries.between(3,12)\n"
   ]
  },
  {
   "cell_type": "code",
   "execution_count": 16,
   "id": "822f7d67",
   "metadata": {},
   "outputs": [
    {
     "data": {
      "text/plain": [
       "0     NaN\n",
       "1     NaN\n",
       "2     3.0\n",
       "3    11.0\n",
       "4    12.0\n",
       "5     NaN\n",
       "dtype: float64"
      ]
     },
     "execution_count": 16,
     "metadata": {},
     "output_type": "execute_result"
    }
   ],
   "source": [
    "numSeries.where(valuesToShow)"
   ]
  },
  {
   "cell_type": "code",
   "execution_count": null,
   "id": "f8803ef1",
   "metadata": {},
   "outputs": [],
   "source": []
  }
 ],
 "metadata": {
  "kernelspec": {
   "display_name": "Python 3",
   "language": "python",
   "name": "python3"
  },
  "language_info": {
   "codemirror_mode": {
    "name": "ipython",
    "version": 3
   },
   "file_extension": ".py",
   "mimetype": "text/x-python",
   "name": "python",
   "nbconvert_exporter": "python",
   "pygments_lexer": "ipython3",
   "version": "3.8.8"
  }
 },
 "nbformat": 4,
 "nbformat_minor": 5
}
