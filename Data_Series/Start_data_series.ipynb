{
 "cells": [
  {
   "cell_type": "code",
   "execution_count": 1,
   "id": "57b45255",
   "metadata": {},
   "outputs": [],
   "source": [
    "import pandas as pd\n",
    "import numpy as np\n",
    "import matplotlib.pyplot as plt\n",
    "import math as math"
   ]
  },
  {
   "cell_type": "code",
   "execution_count": 2,
   "id": "5107a89d",
   "metadata": {},
   "outputs": [],
   "source": [
    "cities = ['London','Berlin','Warsaw','Paris']\n"
   ]
  },
  {
   "cell_type": "code",
   "execution_count": 3,
   "id": "5df8e7fe",
   "metadata": {},
   "outputs": [
    {
     "data": {
      "text/plain": [
       "['London', 'Berlin', 'Warsaw', 'Paris']"
      ]
     },
     "execution_count": 3,
     "metadata": {},
     "output_type": "execute_result"
    }
   ],
   "source": [
    "cities\n"
   ]
  },
  {
   "cell_type": "code",
   "execution_count": 5,
   "id": "57bcc2b4",
   "metadata": {},
   "outputs": [
    {
     "data": {
      "text/plain": [
       "0    London\n",
       "1    Berlin\n",
       "2    Warsaw\n",
       "3     Paris\n",
       "dtype: object"
      ]
     },
     "execution_count": 5,
     "metadata": {},
     "output_type": "execute_result"
    }
   ],
   "source": [
    "pd.Series(cities)"
   ]
  },
  {
   "cell_type": "code",
   "execution_count": 6,
   "id": "7e3d63df",
   "metadata": {},
   "outputs": [
    {
     "data": {
      "text/plain": [
       "0     2\n",
       "1     3\n",
       "2     5\n",
       "3     7\n",
       "4    11\n",
       "5    13\n",
       "6    17\n",
       "7    19\n",
       "dtype: int64"
      ]
     },
     "execution_count": 6,
     "metadata": {},
     "output_type": "execute_result"
    }
   ],
   "source": [
    "primeNumbers=(2,3,5,7,11,13,17,19)\n",
    "pd.Series(primeNumbers)"
   ]
  },
  {
   "cell_type": "code",
   "execution_count": 7,
   "id": "361d52e8",
   "metadata": {},
   "outputs": [],
   "source": [
    "logicalValues = [True,True,False]"
   ]
  },
  {
   "cell_type": "code",
   "execution_count": 8,
   "id": "b16bc4aa",
   "metadata": {},
   "outputs": [
    {
     "data": {
      "text/plain": [
       "0     True\n",
       "1     True\n",
       "2    False\n",
       "dtype: bool"
      ]
     },
     "execution_count": 8,
     "metadata": {},
     "output_type": "execute_result"
    }
   ],
   "source": [
    "pd.Series(logicalValues)"
   ]
  },
  {
   "cell_type": "code",
   "execution_count": 15,
   "id": "ee64ad20",
   "metadata": {},
   "outputs": [],
   "source": [
    "SpielbergFilmography = {'Jaws' : 1975, '1941':1979, \n",
    "                        'Indiana Jones and Raiders of the Lost Ark': 1981,\n",
    "                        'E.T the Extra-Terrestrial' : 1982}"
   ]
  },
  {
   "cell_type": "code",
   "execution_count": 16,
   "id": "26f3101e",
   "metadata": {},
   "outputs": [
    {
     "data": {
      "text/plain": [
       "{'Jaws': 1975,\n",
       " '1941': 1979,\n",
       " 'Indiana Jones and Raiders of the Lost Ark': 1981,\n",
       " 'E.T the Extra-Terrestrial': 1982}"
      ]
     },
     "execution_count": 16,
     "metadata": {},
     "output_type": "execute_result"
    }
   ],
   "source": [
    "SpielbergFilmography"
   ]
  },
  {
   "cell_type": "code",
   "execution_count": 17,
   "id": "018d90cc",
   "metadata": {},
   "outputs": [
    {
     "data": {
      "text/plain": [
       "Jaws                                         1975\n",
       "1941                                         1979\n",
       "Indiana Jones and Raiders of the Lost Ark    1981\n",
       "E.T the Extra-Terrestrial                    1982\n",
       "dtype: int64"
      ]
     },
     "execution_count": 17,
     "metadata": {},
     "output_type": "execute_result"
    }
   ],
   "source": [
    "pd.Series(SpielbergFilmography)"
   ]
  },
  {
   "cell_type": "code",
   "execution_count": null,
   "id": "a416789c",
   "metadata": {},
   "outputs": [],
   "source": []
  }
 ],
 "metadata": {
  "kernelspec": {
   "display_name": "Python 3",
   "language": "python",
   "name": "python3"
  },
  "language_info": {
   "codemirror_mode": {
    "name": "ipython",
    "version": 3
   },
   "file_extension": ".py",
   "mimetype": "text/x-python",
   "name": "python",
   "nbconvert_exporter": "python",
   "pygments_lexer": "ipython3",
   "version": "3.8.8"
  }
 },
 "nbformat": 4,
 "nbformat_minor": 5
}
