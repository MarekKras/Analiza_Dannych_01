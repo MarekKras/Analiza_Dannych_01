{
 "cells": [
  {
   "cell_type": "code",
   "execution_count": 1,
   "id": "4b79d238",
   "metadata": {},
   "outputs": [],
   "source": [
    "import pandas as pd\n",
    "import numpy as np\n",
    "import matplotlib.pyplot as plt\n",
    "import math as math"
   ]
  },
  {
   "cell_type": "code",
   "execution_count": 8,
   "id": "dd6f2378",
   "metadata": {},
   "outputs": [
    {
     "data": {
      "text/plain": [
       "2     113750.0\n",
       "14    100000.0\n",
       "17    130000.0\n",
       "18     82500.0\n",
       "22    100764.0\n",
       "Name: Salary, dtype: float64"
      ]
     },
     "execution_count": 8,
     "metadata": {},
     "output_type": "execute_result"
    }
   ],
   "source": [
    "salary = pd.read_csv(\"./Data/StackOverflowDeveloperSurvey.csv\",usecols=['Salary'],squeeze=True).dropna()\n",
    "salary.head()"
   ]
  },
  {
   "cell_type": "code",
   "execution_count": 9,
   "id": "8b326f96",
   "metadata": {},
   "outputs": [
    {
     "data": {
      "text/plain": [
       "31600    197000.0\n",
       "27943    195000.0\n",
       "6743     195000.0\n",
       "18237    195000.0\n",
       "41398    195000.0\n",
       "Name: Salary, dtype: float64"
      ]
     },
     "execution_count": 9,
     "metadata": {},
     "output_type": "execute_result"
    }
   ],
   "source": [
    "salary.sort_values(ascending=False).head()"
   ]
  },
  {
   "cell_type": "code",
   "execution_count": 10,
   "id": "398c14be",
   "metadata": {},
   "outputs": [
    {
     "data": {
      "text/plain": [
       "51144    0.0\n",
       "23953    0.0\n",
       "23907    0.0\n",
       "44841    0.0\n",
       "2951     0.0\n",
       "Name: Salary, dtype: float64"
      ]
     },
     "execution_count": 10,
     "metadata": {},
     "output_type": "execute_result"
    }
   ],
   "source": [
    "salary.sort_values(ascending=True).head()"
   ]
  },
  {
   "cell_type": "code",
   "execution_count": 11,
   "id": "7ece21de",
   "metadata": {},
   "outputs": [],
   "source": [
    "salary.sort_values(inplace=True, ascending=False)"
   ]
  },
  {
   "cell_type": "code",
   "execution_count": 12,
   "id": "0cee692a",
   "metadata": {},
   "outputs": [
    {
     "data": {
      "text/plain": [
       "31600    197000.0\n",
       "27943    195000.0\n",
       "6743     195000.0\n",
       "18237    195000.0\n",
       "41398    195000.0\n",
       "Name: Salary, dtype: float64"
      ]
     },
     "execution_count": 12,
     "metadata": {},
     "output_type": "execute_result"
    }
   ],
   "source": [
    "salary.head()"
   ]
  },
  {
   "cell_type": "code",
   "execution_count": 17,
   "id": "2849eb50",
   "metadata": {},
   "outputs": [],
   "source": [
    "maxSalaries = salary.sort_values(ascending=False).head(100)"
   ]
  },
  {
   "cell_type": "code",
   "execution_count": 16,
   "id": "22466a77",
   "metadata": {},
   "outputs": [],
   "source": [
    "minSalaries = salary.sort_values().head(100)"
   ]
  },
  {
   "cell_type": "markdown",
   "id": "be469dcd",
   "metadata": {},
   "source": [
    "##maxSalaries.mean()"
   ]
  },
  {
   "cell_type": "code",
   "execution_count": 19,
   "id": "7306be3d",
   "metadata": {},
   "outputs": [
    {
     "data": {
      "text/plain": [
       "67.08388907133795"
      ]
     },
     "execution_count": 19,
     "metadata": {},
     "output_type": "execute_result"
    }
   ],
   "source": [
    "minSalaries.mean()"
   ]
  },
  {
   "cell_type": "code",
   "execution_count": 20,
   "id": "2c490a88",
   "metadata": {},
   "outputs": [
    {
     "data": {
      "text/plain": [
       "180198.1045586777"
      ]
     },
     "execution_count": 20,
     "metadata": {},
     "output_type": "execute_result"
    }
   ],
   "source": [
    "maxSalaries.mean()"
   ]
  },
  {
   "cell_type": "code",
   "execution_count": null,
   "id": "033e0373",
   "metadata": {},
   "outputs": [],
   "source": []
  }
 ],
 "metadata": {
  "kernelspec": {
   "display_name": "Python 3",
   "language": "python",
   "name": "python3"
  },
  "language_info": {
   "codemirror_mode": {
    "name": "ipython",
    "version": 3
   },
   "file_extension": ".py",
   "mimetype": "text/x-python",
   "name": "python",
   "nbconvert_exporter": "python",
   "pygments_lexer": "ipython3",
   "version": "3.8.8"
  }
 },
 "nbformat": 4,
 "nbformat_minor": 5
}
