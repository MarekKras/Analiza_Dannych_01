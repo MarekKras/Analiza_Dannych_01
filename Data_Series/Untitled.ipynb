{
 "cells": [
  {
   "cell_type": "markdown",
   "id": "e8386083",
   "metadata": {},
   "source": [
    "# Important Modules in Data Analysis with Python\n",
    "\n",
    "![Logo Numpy](./Photo/pobrane.png)\n",
    "\n",
    "sdfdsfsdfsdfsd\n",
    "## Pandas\n",
    "## Numpy\n"
   ]
  },
  {
   "cell_type": "code",
   "execution_count": null,
   "id": "782a2467",
   "metadata": {},
   "outputs": [],
   "source": []
  }
 ],
 "metadata": {
  "kernelspec": {
   "display_name": "Python 3",
   "language": "python",
   "name": "python3"
  },
  "language_info": {
   "codemirror_mode": {
    "name": "ipython",
    "version": 3
   },
   "file_extension": ".py",
   "mimetype": "text/x-python",
   "name": "python",
   "nbconvert_exporter": "python",
   "pygments_lexer": "ipython3",
   "version": "3.8.8"
  }
 },
 "nbformat": 4,
 "nbformat_minor": 5
}
