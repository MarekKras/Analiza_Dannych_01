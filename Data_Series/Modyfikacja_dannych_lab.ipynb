{
 "cells": [
  {
   "cell_type": "code",
   "execution_count": 1,
   "id": "1fe8e90b",
   "metadata": {},
   "outputs": [],
   "source": [
    "import pandas as pd"
   ]
  },
  {
   "cell_type": "code",
   "execution_count": 11,
   "id": "8886420d",
   "metadata": {},
   "outputs": [
    {
     "data": {
      "text/plain": [
       "2     113750.0\n",
       "14    100000.0\n",
       "17    130000.0\n",
       "18     82500.0\n",
       "22    100764.0\n",
       "Name: Salary, dtype: float64"
      ]
     },
     "execution_count": 11,
     "metadata": {},
     "output_type": "execute_result"
    }
   ],
   "source": [
    "surveys = pd.read_csv(\"./Data/StackOverflowDeveloperSurvey.csv\",usecols=[\"Salary\"],squeeze=True).dropna()\n",
    "surveys.head()"
   ]
  },
  {
   "cell_type": "code",
   "execution_count": 4,
   "id": "bec89bf0",
   "metadata": {},
   "outputs": [
    {
     "data": {
      "text/plain": [
       "12891"
      ]
     },
     "execution_count": 4,
     "metadata": {},
     "output_type": "execute_result"
    }
   ],
   "source": [
    "surveys.count()"
   ]
  },
  {
   "cell_type": "code",
   "execution_count": 5,
   "id": "13656a31",
   "metadata": {},
   "outputs": [],
   "source": [
    "surveysIncrease = surveys * 0.03"
   ]
  },
  {
   "cell_type": "code",
   "execution_count": 6,
   "id": "a8ed443e",
   "metadata": {},
   "outputs": [
    {
     "data": {
      "text/plain": [
       "2     3412.50\n",
       "14    3000.00\n",
       "17    3900.00\n",
       "18    2475.00\n",
       "22    3022.92\n",
       "Name: Salary, dtype: float64"
      ]
     },
     "execution_count": 6,
     "metadata": {},
     "output_type": "execute_result"
    }
   ],
   "source": [
    "surveysIncrease.head()"
   ]
  },
  {
   "cell_type": "code",
   "execution_count": 7,
   "id": "449d7e45",
   "metadata": {},
   "outputs": [],
   "source": [
    "surveysAfterIncrease = surveys + surveysIncrease"
   ]
  },
  {
   "cell_type": "code",
   "execution_count": 8,
   "id": "ad2f86fd",
   "metadata": {},
   "outputs": [
    {
     "data": {
      "text/plain": [
       "2     117162.50\n",
       "14    103000.00\n",
       "17    133900.00\n",
       "18     84975.00\n",
       "22    103786.92\n",
       "Name: Salary, dtype: float64"
      ]
     },
     "execution_count": 8,
     "metadata": {},
     "output_type": "execute_result"
    }
   ],
   "source": [
    "surveysAfterIncrease.head()"
   ]
  },
  {
   "cell_type": "code",
   "execution_count": 27,
   "id": "1624e3c0",
   "metadata": {},
   "outputs": [],
   "source": [
    "surveysTime = pd.read_csv(\"./Data/StackOverflowDeveloperSurvey2018.csv\",usecols=[\"HoursOutside\"],squeeze=True,low_memory=False).dropna()"
   ]
  },
  {
   "cell_type": "code",
   "execution_count": 12,
   "id": "57d48a57",
   "metadata": {},
   "outputs": [
    {
     "data": {
      "text/plain": [
       "0             1 - 2 hours\n",
       "1         30 - 59 minutes\n",
       "3    Less than 30 minutes\n",
       "4             1 - 2 hours\n",
       "5         30 - 59 minutes\n",
       "Name: HoursOutside, dtype: object"
      ]
     },
     "execution_count": 12,
     "metadata": {},
     "output_type": "execute_result"
    }
   ],
   "source": [
    "surveysTime.head()"
   ]
  },
  {
   "cell_type": "code",
   "execution_count": 13,
   "id": "751ae760",
   "metadata": {
    "scrolled": true
   },
   "outputs": [
    {
     "data": {
      "text/plain": [
       "1 - 2 hours             27788\n",
       "30 - 59 minutes         24002\n",
       "Less than 30 minutes    11223\n",
       "3 - 4 hours              7186\n",
       "Over 4 hours             1825\n",
       "Name: HoursOutside, dtype: int64"
      ]
     },
     "execution_count": 13,
     "metadata": {},
     "output_type": "execute_result"
    }
   ],
   "source": [
    "surveysTime.value_counts()"
   ]
  },
  {
   "cell_type": "code",
   "execution_count": 16,
   "id": "0f0f08eb",
   "metadata": {},
   "outputs": [],
   "source": [
    "surveysTime = surveysTime.str.lower()"
   ]
  },
  {
   "cell_type": "code",
   "execution_count": 17,
   "id": "349e5486",
   "metadata": {},
   "outputs": [
    {
     "data": {
      "text/plain": [
       "0                 1 - 2 hours\n",
       "1             30 - 59 minutes\n",
       "3        less than 30 minutes\n",
       "4                 1 - 2 hours\n",
       "5             30 - 59 minutes\n",
       "                 ...         \n",
       "93408             1 - 2 hours\n",
       "93416             3 - 4 hours\n",
       "93435             1 - 2 hours\n",
       "93442    less than 30 minutes\n",
       "93462             1 - 2 hours\n",
       "Name: HoursOutside, Length: 72024, dtype: object"
      ]
     },
     "execution_count": 17,
     "metadata": {},
     "output_type": "execute_result"
    }
   ],
   "source": [
    "surveysTime"
   ]
  },
  {
   "cell_type": "code",
   "execution_count": 28,
   "id": "e1fc459d",
   "metadata": {},
   "outputs": [
    {
     "data": {
      "text/plain": [
       "0             1 - 2 HOURS\n",
       "1         30 - 59 MINUTES\n",
       "3    LESS THAN 30 MINUTES\n",
       "4             1 - 2 HOURS\n",
       "5         30 - 59 MINUTES\n",
       "Name: HoursOutside, dtype: object"
      ]
     },
     "execution_count": 28,
     "metadata": {},
     "output_type": "execute_result"
    }
   ],
   "source": [
    "surveysTime = surveysTime.apply(lambda desc: desc.upper())\n",
    "surveysTime.head()\n"
   ]
  },
  {
   "cell_type": "code",
   "execution_count": 34,
   "id": "481ec936",
   "metadata": {},
   "outputs": [],
   "source": [
    "def ChangeDescription(desc):\n",
    "    if desc == 'LESS THAN 30 MINUTES':\n",
    "        return 'LESS THAN HALF HOUR'\n",
    "    else:\n",
    "        return desc"
   ]
  },
  {
   "cell_type": "code",
   "execution_count": 35,
   "id": "9bbd4c81",
   "metadata": {},
   "outputs": [
    {
     "name": "stdout",
     "output_type": "stream",
     "text": [
      "LESS THAN HALF HOUR\n",
      "1 HOUR\n"
     ]
    }
   ],
   "source": [
    "print(ChangeDescription('LESS THAN 30 MINUTES'))\n",
    "print(ChangeDescription('1 HOUR'))"
   ]
  },
  {
   "cell_type": "code",
   "execution_count": 36,
   "id": "13ead611",
   "metadata": {},
   "outputs": [
    {
     "data": {
      "text/plain": [
       "0            1 - 2 HOURS\n",
       "1        30 - 59 MINUTES\n",
       "3    LESS THAN HALF HOUR\n",
       "4            1 - 2 HOURS\n",
       "5        30 - 59 MINUTES\n",
       "Name: HoursOutside, dtype: object"
      ]
     },
     "execution_count": 36,
     "metadata": {},
     "output_type": "execute_result"
    }
   ],
   "source": [
    "surveysTime = surveysTime.apply(ChangeDescription)\n",
    "surveysTime.head()"
   ]
  },
  {
   "cell_type": "code",
   "execution_count": null,
   "id": "acaab326",
   "metadata": {},
   "outputs": [],
   "source": []
  }
 ],
 "metadata": {
  "kernelspec": {
   "display_name": "Python 3",
   "language": "python",
   "name": "python3"
  },
  "language_info": {
   "codemirror_mode": {
    "name": "ipython",
    "version": 3
   },
   "file_extension": ".py",
   "mimetype": "text/x-python",
   "name": "python",
   "nbconvert_exporter": "python",
   "pygments_lexer": "ipython3",
   "version": "3.8.8"
  }
 },
 "nbformat": 4,
 "nbformat_minor": 5
}
