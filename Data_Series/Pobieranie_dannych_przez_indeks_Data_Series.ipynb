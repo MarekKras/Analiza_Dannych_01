{
 "cells": [
  {
   "cell_type": "code",
   "execution_count": 1,
   "id": "8cb22ca6",
   "metadata": {},
   "outputs": [],
   "source": [
    "import pandas as pd\n",
    "import numpy as np\n",
    "import matplotlib.pyplot as plt\n",
    "import math as math"
   ]
  },
  {
   "cell_type": "code",
   "execution_count": 5,
   "id": "34b7320b",
   "metadata": {},
   "outputs": [],
   "source": [
    "pok = pd.read_csv(\"./Data/pokemon.csv\",usecols=['Name'],squeeze=True)\n"
   ]
  },
  {
   "cell_type": "code",
   "execution_count": 6,
   "id": "42ab7dbb",
   "metadata": {},
   "outputs": [
    {
     "data": {
      "text/plain": [
       "'Machoke'"
      ]
     },
     "execution_count": 6,
     "metadata": {},
     "output_type": "execute_result"
    }
   ],
   "source": [
    "pok[73]"
   ]
  },
  {
   "cell_type": "code",
   "execution_count": 8,
   "id": "3c7345b1",
   "metadata": {},
   "outputs": [],
   "source": [
    "#pok[64,73]"
   ]
  },
  {
   "cell_type": "code",
   "execution_count": 9,
   "id": "6515f348",
   "metadata": {},
   "outputs": [
    {
     "data": {
      "text/plain": [
       "64    Arcanine\n",
       "73     Machoke\n",
       "Name: Name, dtype: object"
      ]
     },
     "execution_count": 9,
     "metadata": {},
     "output_type": "execute_result"
    }
   ],
   "source": [
    "pok[[64,73]]"
   ]
  },
  {
   "cell_type": "code",
   "execution_count": 10,
   "id": "92ba1c2b",
   "metadata": {},
   "outputs": [
    {
     "data": {
      "text/plain": [
       "2                 Venusaur\n",
       "3    VenusaurMega Venusaur\n",
       "4               Charmander\n",
       "5               Charmeleon\n",
       "6                Charizard\n",
       "Name: Name, dtype: object"
      ]
     },
     "execution_count": 10,
     "metadata": {},
     "output_type": "execute_result"
    }
   ],
   "source": [
    "pok[2:7]"
   ]
  },
  {
   "cell_type": "code",
   "execution_count": 11,
   "id": "19019274",
   "metadata": {},
   "outputs": [
    {
     "data": {
      "text/plain": [
       "795                Diancie\n",
       "796    DiancieMega Diancie\n",
       "797    HoopaHoopa Confined\n",
       "798     HoopaHoopa Unbound\n",
       "799              Volcanion\n",
       "Name: Name, dtype: object"
      ]
     },
     "execution_count": 11,
     "metadata": {},
     "output_type": "execute_result"
    }
   ],
   "source": [
    "pok[795:]"
   ]
  },
  {
   "cell_type": "code",
   "execution_count": 12,
   "id": "f15ca2ca",
   "metadata": {},
   "outputs": [
    {
     "data": {
      "text/plain": [
       "795                Diancie\n",
       "796    DiancieMega Diancie\n",
       "797    HoopaHoopa Confined\n",
       "798     HoopaHoopa Unbound\n",
       "Name: Name, dtype: object"
      ]
     },
     "execution_count": 12,
     "metadata": {},
     "output_type": "execute_result"
    }
   ],
   "source": [
    "pok[795:799]"
   ]
  },
  {
   "cell_type": "code",
   "execution_count": 13,
   "id": "909dad68",
   "metadata": {},
   "outputs": [
    {
     "data": {
      "text/plain": [
       "0                Bulbasaur\n",
       "1                  Ivysaur\n",
       "2                 Venusaur\n",
       "3    VenusaurMega Venusaur\n",
       "Name: Name, dtype: object"
      ]
     },
     "execution_count": 13,
     "metadata": {},
     "output_type": "execute_result"
    }
   ],
   "source": [
    "pok[:4]"
   ]
  },
  {
   "cell_type": "code",
   "execution_count": 14,
   "id": "c60cf289",
   "metadata": {},
   "outputs": [
    {
     "data": {
      "text/plain": [
       "798    HoopaHoopa Unbound\n",
       "799             Volcanion\n",
       "Name: Name, dtype: object"
      ]
     },
     "execution_count": 14,
     "metadata": {},
     "output_type": "execute_result"
    }
   ],
   "source": [
    "pok[-2:]"
   ]
  },
  {
   "cell_type": "code",
   "execution_count": null,
   "id": "f600ae33",
   "metadata": {},
   "outputs": [],
   "source": []
  }
 ],
 "metadata": {
  "kernelspec": {
   "display_name": "Python 3",
   "language": "python",
   "name": "python3"
  },
  "language_info": {
   "codemirror_mode": {
    "name": "ipython",
    "version": 3
   },
   "file_extension": ".py",
   "mimetype": "text/x-python",
   "name": "python",
   "nbconvert_exporter": "python",
   "pygments_lexer": "ipython3",
   "version": "3.8.8"
  }
 },
 "nbformat": 4,
 "nbformat_minor": 5
}
