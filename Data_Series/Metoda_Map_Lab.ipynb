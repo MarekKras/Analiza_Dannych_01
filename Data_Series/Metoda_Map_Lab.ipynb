{
 "cells": [
  {
   "cell_type": "code",
   "execution_count": 2,
   "id": "b26018a7",
   "metadata": {},
   "outputs": [],
   "source": [
    "import pandas as pd\n",
    "import random as rd"
   ]
  },
  {
   "cell_type": "code",
   "execution_count": 3,
   "id": "4b3c99ab",
   "metadata": {},
   "outputs": [],
   "source": [
    "aircraftsDict = { 'PYT001':'Airbus 320',\n",
    "'PYT002':'Boeing 737',\n",
    "'PYT003':'Airbus 321'}"
   ]
  },
  {
   "cell_type": "code",
   "execution_count": 4,
   "id": "15f9a33c",
   "metadata": {},
   "outputs": [
    {
     "data": {
      "text/plain": [
       "PYT001    Airbus 320\n",
       "PYT002    Boeing 737\n",
       "PYT003    Airbus 321\n",
       "dtype: object"
      ]
     },
     "execution_count": 4,
     "metadata": {},
     "output_type": "execute_result"
    }
   ],
   "source": [
    "aircrafts = pd.Series(aircraftsDict)\n",
    "aircrafts"
   ]
  },
  {
   "cell_type": "code",
   "execution_count": 5,
   "id": "004d1e8a",
   "metadata": {},
   "outputs": [],
   "source": [
    "flightsList = []\n"
   ]
  },
  {
   "cell_type": "code",
   "execution_count": 14,
   "id": "9261fbcb",
   "metadata": {},
   "outputs": [
    {
     "data": {
      "text/plain": [
       "['PYT002', 'PYT002', 'PYT003', 'PYT001', 'PYT001']"
      ]
     },
     "execution_count": 14,
     "metadata": {},
     "output_type": "execute_result"
    }
   ],
   "source": [
    "for i in range(100):\n",
    "    flightsList.append(rd.choice(aircrafts.index)) \n",
    "flightsList[:5]"
   ]
  },
  {
   "cell_type": "code",
   "execution_count": 16,
   "id": "dfb3d1c2",
   "metadata": {},
   "outputs": [
    {
     "data": {
      "text/plain": [
       "0    PYT002\n",
       "1    PYT002\n",
       "2    PYT003\n",
       "3    PYT001\n",
       "4    PYT001\n",
       "dtype: object"
      ]
     },
     "execution_count": 16,
     "metadata": {},
     "output_type": "execute_result"
    }
   ],
   "source": [
    "flights = pd.Series(flightsList)\n",
    "flights.head()"
   ]
  },
  {
   "cell_type": "code",
   "execution_count": 19,
   "id": "d4ee90cb",
   "metadata": {},
   "outputs": [
    {
     "data": {
      "text/plain": [
       "0      Boeing 737\n",
       "1      Boeing 737\n",
       "2      Airbus 321\n",
       "3      Airbus 320\n",
       "4      Airbus 320\n",
       "          ...    \n",
       "795    Airbus 321\n",
       "796    Airbus 321\n",
       "797    Airbus 320\n",
       "798    Airbus 320\n",
       "799    Airbus 321\n",
       "Length: 800, dtype: object"
      ]
     },
     "execution_count": 19,
     "metadata": {},
     "output_type": "execute_result"
    }
   ],
   "source": [
    "flights_aircrafts = flights.map(aircrafts)\n",
    "flights_aircrafts"
   ]
  },
  {
   "cell_type": "code",
   "execution_count": null,
   "id": "78d6edcd",
   "metadata": {},
   "outputs": [],
   "source": []
  }
 ],
 "metadata": {
  "kernelspec": {
   "display_name": "Python 3",
   "language": "python",
   "name": "python3"
  },
  "language_info": {
   "codemirror_mode": {
    "name": "ipython",
    "version": 3
   },
   "file_extension": ".py",
   "mimetype": "text/x-python",
   "name": "python",
   "nbconvert_exporter": "python",
   "pygments_lexer": "ipython3",
   "version": "3.8.8"
  }
 },
 "nbformat": 4,
 "nbformat_minor": 5
}
