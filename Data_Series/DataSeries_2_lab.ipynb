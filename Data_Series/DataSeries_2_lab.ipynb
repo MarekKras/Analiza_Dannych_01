{
 "cells": [
  {
   "cell_type": "code",
   "execution_count": 1,
   "id": "52abb125",
   "metadata": {},
   "outputs": [],
   "source": [
    "import pandas as pd\n",
    "import numpy as np\n",
    "import matplotlib.pyplot as plt\n",
    "import math as mat"
   ]
  },
  {
   "cell_type": "code",
   "execution_count": 4,
   "id": "39cfc139",
   "metadata": {},
   "outputs": [],
   "source": [
    "import random as rnd\n",
    "dataAsFloatList = []\n",
    "for i in range (1100000):\n",
    "    dataAsFloatList.append(i*rnd.random())\n",
    "dataAsFloatSeries=pd.Series(dataAsFloatList)\n",
    "   \n"
   ]
  },
  {
   "cell_type": "code",
   "execution_count": 5,
   "id": "e8d51a64",
   "metadata": {},
   "outputs": [
    {
     "name": "stdout",
     "output_type": "stream",
     "text": [
      "size: \t 1100000\n"
     ]
    }
   ],
   "source": [
    "print('size: \\t', dataAsFloatSeries.size)"
   ]
  },
  {
   "cell_type": "code",
   "execution_count": 7,
   "id": "fa4c4c62",
   "metadata": {},
   "outputs": [
    {
     "name": "stdout",
     "output_type": "stream",
     "text": [
      "size: \t 1100000\n",
      "nbytes:\t 8800000\n",
      "shape: \t (1100000,)\n",
      "axes: \t [RangeIndex(start=0, stop=1100000, step=1)]\n",
      "dtype: \t float64\n",
      "index: \t RangeIndex(start=0, stop=1100000, step=1)\n",
      "is_unique: \t True\n",
      "is_monotonic: \t False\n"
     ]
    }
   ],
   "source": [
    "print('size: \\t', dataAsFloatSeries.size)\n",
    "print('nbytes:\\t', dataAsFloatSeries.nbytes)\n",
    "print('shape: \\t', dataAsFloatSeries.shape)\n",
    "print('axes: \\t', dataAsFloatSeries.axes)\n",
    "print('dtype: \\t', dataAsFloatSeries.dtype)\n",
    "print('index: \\t', dataAsFloatSeries.index)\n",
    "print('is_unique: \\t', dataAsFloatSeries.is_unique)\n",
    "print('is_monotonic: \\t', dataAsFloatSeries.is_monotonic)"
   ]
  },
  {
   "cell_type": "code",
   "execution_count": 14,
   "id": "0f81baf9",
   "metadata": {},
   "outputs": [],
   "source": [
    "import random as rnd\n",
    "dataAsStringList = []\n",
    "for i in range(100000):\n",
    "    dataAsStringList.append(str(i*rnd.random()))\n",
    "dataAsStringSeries = pd.Series(dataAsStringList)\n"
   ]
  },
  {
   "cell_type": "code",
   "execution_count": 15,
   "id": "32e645d8",
   "metadata": {},
   "outputs": [
    {
     "name": "stdout",
     "output_type": "stream",
     "text": [
      "size: \t 100000\n",
      "nbytes:\t 800000\n",
      "dtype:\t object\n"
     ]
    }
   ],
   "source": [
    "print('size: \\t',dataAsStringSeries.size)\n",
    "print('nbytes:\\t',dataAsStringSeries.nbytes)\n",
    "print('dtype:\\t',dataAsStringSeries.dtype)"
   ]
  },
  {
   "cell_type": "code",
   "execution_count": 16,
   "id": "6ee176b7",
   "metadata": {},
   "outputs": [
    {
     "data": {
      "text/plain": [
       "8800128"
      ]
     },
     "execution_count": 16,
     "metadata": {},
     "output_type": "execute_result"
    }
   ],
   "source": [
    "dataAsFloatSeries.memory_usage(deep=True)"
   ]
  },
  {
   "cell_type": "code",
   "execution_count": 17,
   "id": "22a072a7",
   "metadata": {},
   "outputs": [
    {
     "data": {
      "text/plain": [
       "7434670"
      ]
     },
     "execution_count": 17,
     "metadata": {},
     "output_type": "execute_result"
    }
   ],
   "source": [
    "dataAsStringSeries.memory_usage(deep=True)"
   ]
  },
  {
   "cell_type": "code",
   "execution_count": null,
   "id": "3931513c",
   "metadata": {},
   "outputs": [],
   "source": []
  }
 ],
 "metadata": {
  "kernelspec": {
   "display_name": "Python 3",
   "language": "python",
   "name": "python3"
  },
  "language_info": {
   "codemirror_mode": {
    "name": "ipython",
    "version": 3
   },
   "file_extension": ".py",
   "mimetype": "text/x-python",
   "name": "python",
   "nbconvert_exporter": "python",
   "pygments_lexer": "ipython3",
   "version": "3.8.8"
  }
 },
 "nbformat": 4,
 "nbformat_minor": 5
}
