{
 "cells": [
  {
   "cell_type": "code",
   "execution_count": 1,
   "id": "92785bb3",
   "metadata": {},
   "outputs": [],
   "source": [
    "import pandas as pd\n",
    "import numpy as np\n",
    "import matplotlib.pyplot as plt\n",
    "import math as math"
   ]
  },
  {
   "cell_type": "code",
   "execution_count": 2,
   "id": "f12be2b3",
   "metadata": {
    "collapsed": true
   },
   "outputs": [
    {
     "data": {
      "text/plain": [
       "0                  Bulbasaur\n",
       "1                    Ivysaur\n",
       "2                   Venusaur\n",
       "3      VenusaurMega Venusaur\n",
       "4                 Charmander\n",
       "               ...          \n",
       "795                  Diancie\n",
       "796      DiancieMega Diancie\n",
       "797      HoopaHoopa Confined\n",
       "798       HoopaHoopa Unbound\n",
       "799                Volcanion\n",
       "Name: Name, Length: 800, dtype: object"
      ]
     },
     "execution_count": 2,
     "metadata": {},
     "output_type": "execute_result"
    }
   ],
   "source": [
    "pok =pd.read_csv(\"./Data/pokemon.csv\",usecols=['Name'],squeeze=True)\n",
    "pok"
   ]
  },
  {
   "cell_type": "code",
   "execution_count": 3,
   "id": "d1631ae7",
   "metadata": {},
   "outputs": [
    {
     "data": {
      "text/plain": [
       "pandas.core.series.Series"
      ]
     },
     "execution_count": 3,
     "metadata": {},
     "output_type": "execute_result"
    }
   ],
   "source": [
    "type(pok)"
   ]
  },
  {
   "cell_type": "code",
   "execution_count": 4,
   "id": "d7a2298b",
   "metadata": {},
   "outputs": [
    {
     "data": {
      "text/plain": [
       "800"
      ]
     },
     "execution_count": 4,
     "metadata": {},
     "output_type": "execute_result"
    }
   ],
   "source": [
    "len(pok)"
   ]
  },
  {
   "cell_type": "code",
   "execution_count": 5,
   "id": "273448e1",
   "metadata": {},
   "outputs": [
    {
     "data": {
      "text/plain": [
       "0                Bulbasaur\n",
       "1                  Ivysaur\n",
       "2                 Venusaur\n",
       "3    VenusaurMega Venusaur\n",
       "4               Charmander\n",
       "Name: Name, dtype: object"
      ]
     },
     "execution_count": 5,
     "metadata": {},
     "output_type": "execute_result"
    }
   ],
   "source": [
    "pok.head(5)"
   ]
  },
  {
   "cell_type": "code",
   "execution_count": 7,
   "id": "593434d6",
   "metadata": {},
   "outputs": [
    {
     "data": {
      "text/plain": [
       "['Bulbasaur', 'Charmander', 'Ivysaur', 'Venusaur', 'VenusaurMega Venusaur']"
      ]
     },
     "execution_count": 7,
     "metadata": {},
     "output_type": "execute_result"
    }
   ],
   "source": [
    "sorted(pok.head(5))"
   ]
  },
  {
   "cell_type": "code",
   "execution_count": 8,
   "id": "d52ceff3",
   "metadata": {},
   "outputs": [
    {
     "data": {
      "text/plain": [
       "list"
      ]
     },
     "execution_count": 8,
     "metadata": {},
     "output_type": "execute_result"
    }
   ],
   "source": [
    "type(sorted(pok.head(5)))"
   ]
  },
  {
   "cell_type": "code",
   "execution_count": 9,
   "id": "d11fe1ef",
   "metadata": {},
   "outputs": [
    {
     "data": {
      "text/plain": [
       "['Bulbasaur', 'Ivysaur', 'Venusaur', 'VenusaurMega Venusaur', 'Charmander']"
      ]
     },
     "execution_count": 9,
     "metadata": {},
     "output_type": "execute_result"
    }
   ],
   "source": [
    "list(pok.head())"
   ]
  },
  {
   "cell_type": "code",
   "execution_count": 11,
   "id": "b7119930",
   "metadata": {},
   "outputs": [
    {
     "data": {
      "text/plain": [
       "list"
      ]
     },
     "execution_count": 11,
     "metadata": {},
     "output_type": "execute_result"
    }
   ],
   "source": [
    "type(list(pok.head()))"
   ]
  },
  {
   "cell_type": "code",
   "execution_count": 12,
   "id": "cfd1dc8a",
   "metadata": {},
   "outputs": [
    {
     "data": {
      "text/plain": [
       "{0: 'Bulbasaur',\n",
       " 1: 'Ivysaur',\n",
       " 2: 'Venusaur',\n",
       " 3: 'VenusaurMega Venusaur',\n",
       " 4: 'Charmander'}"
      ]
     },
     "execution_count": 12,
     "metadata": {},
     "output_type": "execute_result"
    }
   ],
   "source": [
    "dict(pok.head())"
   ]
  },
  {
   "cell_type": "code",
   "execution_count": 13,
   "id": "31fd7b50",
   "metadata": {},
   "outputs": [
    {
     "data": {
      "text/plain": [
       "dict"
      ]
     },
     "execution_count": 13,
     "metadata": {},
     "output_type": "execute_result"
    }
   ],
   "source": [
    "type(dict(pok.head()))"
   ]
  },
  {
   "cell_type": "code",
   "execution_count": 14,
   "id": "370f454f",
   "metadata": {},
   "outputs": [
    {
     "data": {
      "text/plain": [
       "'Abomasnow'"
      ]
     },
     "execution_count": 14,
     "metadata": {},
     "output_type": "execute_result"
    }
   ],
   "source": [
    "min(pok)"
   ]
  },
  {
   "cell_type": "code",
   "execution_count": 15,
   "id": "81577d10",
   "metadata": {},
   "outputs": [
    {
     "data": {
      "text/plain": [
       "'Zygarde50% Forme'"
      ]
     },
     "execution_count": 15,
     "metadata": {},
     "output_type": "execute_result"
    }
   ],
   "source": [
    "max(pok)"
   ]
  },
  {
   "cell_type": "code",
   "execution_count": 16,
   "id": "75a0fb77",
   "metadata": {},
   "outputs": [
    {
     "data": {
      "text/plain": [
       "0                Bulbasaur\n",
       "1                  Ivysaur\n",
       "2                 Venusaur\n",
       "3    VenusaurMega Venusaur\n",
       "4               Charmander\n",
       "Name: Name, dtype: object"
      ]
     },
     "execution_count": 16,
     "metadata": {},
     "output_type": "execute_result"
    }
   ],
   "source": [
    "pok.head()"
   ]
  },
  {
   "cell_type": "code",
   "execution_count": 17,
   "id": "01f6473a",
   "metadata": {},
   "outputs": [],
   "source": [
    "pok.name = 'Name of pokemom'"
   ]
  },
  {
   "cell_type": "code",
   "execution_count": 18,
   "id": "d1bc4c22",
   "metadata": {},
   "outputs": [
    {
     "data": {
      "text/plain": [
       "0                Bulbasaur\n",
       "1                  Ivysaur\n",
       "2                 Venusaur\n",
       "3    VenusaurMega Venusaur\n",
       "4               Charmander\n",
       "Name: Name of pokemom, dtype: object"
      ]
     },
     "execution_count": 18,
     "metadata": {},
     "output_type": "execute_result"
    }
   ],
   "source": [
    "pok.head()"
   ]
  },
  {
   "cell_type": "code",
   "execution_count": 19,
   "id": "a3314fd3",
   "metadata": {},
   "outputs": [],
   "source": [
    "speed = pd.read_csv(\"./Data/pokemon.csv\",usecols=['Speed'],squeeze=True)"
   ]
  },
  {
   "cell_type": "code",
   "execution_count": 20,
   "id": "3c8057e0",
   "metadata": {},
   "outputs": [
    {
     "data": {
      "text/plain": [
       "0    45\n",
       "1    60\n",
       "2    80\n",
       "3    80\n",
       "4    65\n",
       "Name: Speed, dtype: int64"
      ]
     },
     "execution_count": 20,
     "metadata": {},
     "output_type": "execute_result"
    }
   ],
   "source": [
    "speed.head()"
   ]
  },
  {
   "cell_type": "code",
   "execution_count": 22,
   "id": "ff55b885",
   "metadata": {},
   "outputs": [],
   "source": [
    "speed.name = \"Speed of Pokemon\""
   ]
  },
  {
   "cell_type": "code",
   "execution_count": 23,
   "id": "ecc5360f",
   "metadata": {},
   "outputs": [
    {
     "data": {
      "text/plain": [
       "0    45\n",
       "1    60\n",
       "2    80\n",
       "3    80\n",
       "4    65\n",
       "Name: Speed of Pokemon, dtype: int64"
      ]
     },
     "execution_count": 23,
     "metadata": {},
     "output_type": "execute_result"
    }
   ],
   "source": [
    "speed.head()"
   ]
  },
  {
   "cell_type": "code",
   "execution_count": null,
   "id": "6b2d246a",
   "metadata": {},
   "outputs": [],
   "source": []
  }
 ],
 "metadata": {
  "kernelspec": {
   "display_name": "Python 3",
   "language": "python",
   "name": "python3"
  },
  "language_info": {
   "codemirror_mode": {
    "name": "ipython",
    "version": 3
   },
   "file_extension": ".py",
   "mimetype": "text/x-python",
   "name": "python",
   "nbconvert_exporter": "python",
   "pygments_lexer": "ipython3",
   "version": "3.8.8"
  }
 },
 "nbformat": 4,
 "nbformat_minor": 5
}
